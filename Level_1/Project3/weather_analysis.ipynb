{
 "cells": [
  {
   "cell_type": "markdown",
   "metadata": {},
   "source": [
    "# **Project 3: Basic Weather Analysis**\n",
    "\n",
    "In this project, we will analyze a daily weather dataset containing temperature, humidity, wind speed, and mean pressure. The goal is to clean the data, calculate basic statistics, split the dataset into seasons, and export the results to a JSON file. This notebook is designed for learning, so each step will be explained in detail.\n",
    "\n",
    "---\n",
    "\n",
    "## **Specific Tasks:**\n",
    "\n",
    "1. **Download a daily weather dataset (e.g., temperature, humidity, precipitation).**\n",
    "2. **Clean the data, including:**\n",
    "   - Converting date columns to the correct format.\n",
    "   - Detecting and handling outliers in temperature data.\n",
    "3. **Calculate basic statistics:**\n",
    "   - Monthly maximum, minimum, and average temperatures.\n",
    "4. **Split the dataset into seasons (spring, summer, autumn, winter).**\n",
    "5. **Export the results to a JSON file.**\n",
    "\n",
    "---"
   ]
  },
  {
   "cell_type": "markdown",
   "metadata": {},
   "source": [
    "## **Step 1: Load the Dataset**\n",
    "\n",
    "We’ll start by loading the dataset into a Pandas DataFrame."
   ]
  },
  {
   "cell_type": "code",
   "execution_count": 1,
   "metadata": {},
   "outputs": [
    {
     "name": "stdout",
     "output_type": "stream",
     "text": [
      "First 5 rows of the dataset:\n"
     ]
    },
    {
     "data": {
      "text/html": [
       "<div>\n",
       "<style scoped>\n",
       "    .dataframe tbody tr th:only-of-type {\n",
       "        vertical-align: middle;\n",
       "    }\n",
       "\n",
       "    .dataframe tbody tr th {\n",
       "        vertical-align: top;\n",
       "    }\n",
       "\n",
       "    .dataframe thead th {\n",
       "        text-align: right;\n",
       "    }\n",
       "</style>\n",
       "<table border=\"1\" class=\"dataframe\">\n",
       "  <thead>\n",
       "    <tr style=\"text-align: right;\">\n",
       "      <th></th>\n",
       "      <th>date</th>\n",
       "      <th>meantemp</th>\n",
       "      <th>humidity</th>\n",
       "      <th>wind_speed</th>\n",
       "      <th>meanpressure</th>\n",
       "    </tr>\n",
       "  </thead>\n",
       "  <tbody>\n",
       "    <tr>\n",
       "      <th>0</th>\n",
       "      <td>2017-01-01</td>\n",
       "      <td>15.913043</td>\n",
       "      <td>85.869565</td>\n",
       "      <td>2.743478</td>\n",
       "      <td>59.000000</td>\n",
       "    </tr>\n",
       "    <tr>\n",
       "      <th>1</th>\n",
       "      <td>2017-01-02</td>\n",
       "      <td>18.500000</td>\n",
       "      <td>77.222222</td>\n",
       "      <td>2.894444</td>\n",
       "      <td>1018.277778</td>\n",
       "    </tr>\n",
       "    <tr>\n",
       "      <th>2</th>\n",
       "      <td>2017-01-03</td>\n",
       "      <td>17.111111</td>\n",
       "      <td>81.888889</td>\n",
       "      <td>4.016667</td>\n",
       "      <td>1018.333333</td>\n",
       "    </tr>\n",
       "    <tr>\n",
       "      <th>3</th>\n",
       "      <td>2017-01-04</td>\n",
       "      <td>18.700000</td>\n",
       "      <td>70.050000</td>\n",
       "      <td>4.545000</td>\n",
       "      <td>1015.700000</td>\n",
       "    </tr>\n",
       "    <tr>\n",
       "      <th>4</th>\n",
       "      <td>2017-01-05</td>\n",
       "      <td>18.388889</td>\n",
       "      <td>74.944444</td>\n",
       "      <td>3.300000</td>\n",
       "      <td>1014.333333</td>\n",
       "    </tr>\n",
       "  </tbody>\n",
       "</table>\n",
       "</div>"
      ],
      "text/plain": [
       "         date   meantemp   humidity  wind_speed  meanpressure\n",
       "0  2017-01-01  15.913043  85.869565    2.743478     59.000000\n",
       "1  2017-01-02  18.500000  77.222222    2.894444   1018.277778\n",
       "2  2017-01-03  17.111111  81.888889    4.016667   1018.333333\n",
       "3  2017-01-04  18.700000  70.050000    4.545000   1015.700000\n",
       "4  2017-01-05  18.388889  74.944444    3.300000   1014.333333"
      ]
     },
     "execution_count": 1,
     "metadata": {},
     "output_type": "execute_result"
    }
   ],
   "source": [
    "import pandas as pd\n",
    "\n",
    "# Load the dataset\n",
    "df = pd.read_csv(\"DailyDelhiClimate.csv\")\n",
    "\n",
    "# Display the first few rows of the dataset\n",
    "print(\"First 5 rows of the dataset:\")\n",
    "df.head()"
   ]
  },
  {
   "cell_type": "markdown",
   "metadata": {},
   "source": [
    "### **Explanation:**\n",
    "- **`pd.read_csv()`**: This function reads the CSV file and loads it into a Pandas DataFrame. The dataset contains columns like `date`, `meantemp`, `humidity`, `wind_speed`, and `meanpressure`.\n",
    "- **`df.head()`**: This displays the first 5 rows of the dataset, giving us a quick overview of the data structure."
   ]
  },
  {
   "cell_type": "markdown",
   "metadata": {},
   "source": [
    "---"
   ]
  },
  {
   "cell_type": "markdown",
   "metadata": {},
   "source": [
    "## **Step 2: Clean the Data**\n",
    "\n",
    "### **2.1. Convert Date Column to the Correct Format**\n",
    "\n",
    "The `date` column is currently in a string format. To make it easier to work with, we’ll convert it to a datetime format."
   ]
  },
  {
   "cell_type": "code",
   "execution_count": 2,
   "metadata": {},
   "outputs": [
    {
     "name": "stdout",
     "output_type": "stream",
     "text": [
      "DataFrame after converting 'date' column to datetime:\n"
     ]
    },
    {
     "data": {
      "text/html": [
       "<div>\n",
       "<style scoped>\n",
       "    .dataframe tbody tr th:only-of-type {\n",
       "        vertical-align: middle;\n",
       "    }\n",
       "\n",
       "    .dataframe tbody tr th {\n",
       "        vertical-align: top;\n",
       "    }\n",
       "\n",
       "    .dataframe thead th {\n",
       "        text-align: right;\n",
       "    }\n",
       "</style>\n",
       "<table border=\"1\" class=\"dataframe\">\n",
       "  <thead>\n",
       "    <tr style=\"text-align: right;\">\n",
       "      <th></th>\n",
       "      <th>date</th>\n",
       "      <th>meantemp</th>\n",
       "      <th>humidity</th>\n",
       "      <th>wind_speed</th>\n",
       "      <th>meanpressure</th>\n",
       "    </tr>\n",
       "  </thead>\n",
       "  <tbody>\n",
       "    <tr>\n",
       "      <th>0</th>\n",
       "      <td>2017-01-01</td>\n",
       "      <td>15.913043</td>\n",
       "      <td>85.869565</td>\n",
       "      <td>2.743478</td>\n",
       "      <td>59.000000</td>\n",
       "    </tr>\n",
       "    <tr>\n",
       "      <th>1</th>\n",
       "      <td>2017-01-02</td>\n",
       "      <td>18.500000</td>\n",
       "      <td>77.222222</td>\n",
       "      <td>2.894444</td>\n",
       "      <td>1018.277778</td>\n",
       "    </tr>\n",
       "    <tr>\n",
       "      <th>2</th>\n",
       "      <td>2017-01-03</td>\n",
       "      <td>17.111111</td>\n",
       "      <td>81.888889</td>\n",
       "      <td>4.016667</td>\n",
       "      <td>1018.333333</td>\n",
       "    </tr>\n",
       "    <tr>\n",
       "      <th>3</th>\n",
       "      <td>2017-01-04</td>\n",
       "      <td>18.700000</td>\n",
       "      <td>70.050000</td>\n",
       "      <td>4.545000</td>\n",
       "      <td>1015.700000</td>\n",
       "    </tr>\n",
       "    <tr>\n",
       "      <th>4</th>\n",
       "      <td>2017-01-05</td>\n",
       "      <td>18.388889</td>\n",
       "      <td>74.944444</td>\n",
       "      <td>3.300000</td>\n",
       "      <td>1014.333333</td>\n",
       "    </tr>\n",
       "  </tbody>\n",
       "</table>\n",
       "</div>"
      ],
      "text/plain": [
       "        date   meantemp   humidity  wind_speed  meanpressure\n",
       "0 2017-01-01  15.913043  85.869565    2.743478     59.000000\n",
       "1 2017-01-02  18.500000  77.222222    2.894444   1018.277778\n",
       "2 2017-01-03  17.111111  81.888889    4.016667   1018.333333\n",
       "3 2017-01-04  18.700000  70.050000    4.545000   1015.700000\n",
       "4 2017-01-05  18.388889  74.944444    3.300000   1014.333333"
      ]
     },
     "execution_count": 2,
     "metadata": {},
     "output_type": "execute_result"
    }
   ],
   "source": [
    "# Convert the 'date' column to datetime format\n",
    "df['date'] = pd.to_datetime(df['date'])\n",
    "\n",
    "# Display the updated DataFrame\n",
    "print(\"DataFrame after converting 'date' column to datetime:\")\n",
    "df.head()"
   ]
  },
  {
   "cell_type": "markdown",
   "metadata": {},
   "source": [
    "### **Explanation:**\n",
    "- **`pd.to_datetime()`**: This function converts the `date` column from a string format (e.g., \"2017-01-01\") to a datetime format. This allows us to perform date-based operations, such as extracting the month or year.\n",
    "- After conversion, the `date` column will be in a format that Pandas recognizes as dates, making it easier to filter or group data by date."
   ]
  },
  {
   "cell_type": "markdown",
   "metadata": {},
   "source": [
    "---"
   ]
  },
  {
   "cell_type": "markdown",
   "metadata": {},
   "source": [
    "### **2.2. Detect and Handle Outliers in Temperature Data**\n",
    "\n",
    "Outliers are data points that are significantly different from the rest of the data. They can skew our analysis, so we’ll detect and handle them using the **Interquartile Range (IQR)** method."
   ]
  },
  {
   "cell_type": "code",
   "execution_count": 3,
   "metadata": {},
   "outputs": [
    {
     "name": "stdout",
     "output_type": "stream",
     "text": [
      "DataFrame after removing temperature outliers:\n"
     ]
    },
    {
     "data": {
      "text/html": [
       "<div>\n",
       "<style scoped>\n",
       "    .dataframe tbody tr th:only-of-type {\n",
       "        vertical-align: middle;\n",
       "    }\n",
       "\n",
       "    .dataframe tbody tr th {\n",
       "        vertical-align: top;\n",
       "    }\n",
       "\n",
       "    .dataframe thead th {\n",
       "        text-align: right;\n",
       "    }\n",
       "</style>\n",
       "<table border=\"1\" class=\"dataframe\">\n",
       "  <thead>\n",
       "    <tr style=\"text-align: right;\">\n",
       "      <th></th>\n",
       "      <th>date</th>\n",
       "      <th>meantemp</th>\n",
       "      <th>humidity</th>\n",
       "      <th>wind_speed</th>\n",
       "      <th>meanpressure</th>\n",
       "    </tr>\n",
       "  </thead>\n",
       "  <tbody>\n",
       "    <tr>\n",
       "      <th>0</th>\n",
       "      <td>2017-01-01</td>\n",
       "      <td>15.913043</td>\n",
       "      <td>85.869565</td>\n",
       "      <td>2.743478</td>\n",
       "      <td>59.000000</td>\n",
       "    </tr>\n",
       "    <tr>\n",
       "      <th>1</th>\n",
       "      <td>2017-01-02</td>\n",
       "      <td>18.500000</td>\n",
       "      <td>77.222222</td>\n",
       "      <td>2.894444</td>\n",
       "      <td>1018.277778</td>\n",
       "    </tr>\n",
       "    <tr>\n",
       "      <th>2</th>\n",
       "      <td>2017-01-03</td>\n",
       "      <td>17.111111</td>\n",
       "      <td>81.888889</td>\n",
       "      <td>4.016667</td>\n",
       "      <td>1018.333333</td>\n",
       "    </tr>\n",
       "    <tr>\n",
       "      <th>3</th>\n",
       "      <td>2017-01-04</td>\n",
       "      <td>18.700000</td>\n",
       "      <td>70.050000</td>\n",
       "      <td>4.545000</td>\n",
       "      <td>1015.700000</td>\n",
       "    </tr>\n",
       "    <tr>\n",
       "      <th>4</th>\n",
       "      <td>2017-01-05</td>\n",
       "      <td>18.388889</td>\n",
       "      <td>74.944444</td>\n",
       "      <td>3.300000</td>\n",
       "      <td>1014.333333</td>\n",
       "    </tr>\n",
       "  </tbody>\n",
       "</table>\n",
       "</div>"
      ],
      "text/plain": [
       "        date   meantemp   humidity  wind_speed  meanpressure\n",
       "0 2017-01-01  15.913043  85.869565    2.743478     59.000000\n",
       "1 2017-01-02  18.500000  77.222222    2.894444   1018.277778\n",
       "2 2017-01-03  17.111111  81.888889    4.016667   1018.333333\n",
       "3 2017-01-04  18.700000  70.050000    4.545000   1015.700000\n",
       "4 2017-01-05  18.388889  74.944444    3.300000   1014.333333"
      ]
     },
     "execution_count": 3,
     "metadata": {},
     "output_type": "execute_result"
    }
   ],
   "source": [
    "# Calculate the IQR for the 'meantemp' column\n",
    "Q1 = df['meantemp'].quantile(0.25)  # First quartile (25th percentile)\n",
    "Q3 = df['meantemp'].quantile(0.75)  # Third quartile (75th percentile)\n",
    "IQR = Q3 - Q1  # Interquartile range\n",
    "\n",
    "# Define the lower and upper bounds for outliers\n",
    "lower_bound = Q1 - 1.5 * IQR\n",
    "upper_bound = Q3 + 1.5 * IQR\n",
    "\n",
    "# Filter out outliers\n",
    "df = df[(df['meantemp'] >= lower_bound) & (df['meantemp'] <= upper_bound)]\n",
    "\n",
    "# Display the DataFrame after removing outliers\n",
    "print(\"DataFrame after removing temperature outliers:\")\n",
    "df.head()"
   ]
  },
  {
   "cell_type": "markdown",
   "metadata": {},
   "source": [
    "### **Explanation:**\n",
    "- **IQR Method**: The IQR is the range between the first quartile (25th percentile) and the third quartile (75th percentile). Outliers are defined as data points that fall below `Q1 - 1.5 * IQR` or above `Q3 + 1.5 * IQR`.\n",
    "- **Steps**:\n",
    "  1. Calculate `Q1` and `Q3` for the `meantemp` column.\n",
    "  2. Compute the IQR as `Q3 - Q1`.\n",
    "  3. Define the lower and upper bounds for outliers.\n",
    "  4. Filter the DataFrame to remove rows where the `meantemp` falls outside these bounds.\n",
    "- This ensures that extreme values (outliers) do not distort our analysis."
   ]
  },
  {
   "cell_type": "markdown",
   "metadata": {},
   "source": [
    "---"
   ]
  },
  {
   "cell_type": "markdown",
   "metadata": {},
   "source": [
    "## **Step 3: Calculate Basic Statistics**\n",
    "\n",
    "### **3.1. Monthly Maximum, Minimum, and Average Temperatures**\n",
    "\n",
    "We’ll calculate the monthly maximum, minimum, and average temperatures to understand how the temperature varies throughout the year."
   ]
  },
  {
   "cell_type": "code",
   "execution_count": 4,
   "metadata": {},
   "outputs": [
    {
     "name": "stdout",
     "output_type": "stream",
     "text": [
      "Monthly temperature statistics:\n"
     ]
    },
    {
     "data": {
      "text/html": [
       "<div>\n",
       "<style scoped>\n",
       "    .dataframe tbody tr th:only-of-type {\n",
       "        vertical-align: middle;\n",
       "    }\n",
       "\n",
       "    .dataframe tbody tr th {\n",
       "        vertical-align: top;\n",
       "    }\n",
       "\n",
       "    .dataframe thead th {\n",
       "        text-align: right;\n",
       "    }\n",
       "</style>\n",
       "<table border=\"1\" class=\"dataframe\">\n",
       "  <thead>\n",
       "    <tr style=\"text-align: right;\">\n",
       "      <th></th>\n",
       "      <th>Month</th>\n",
       "      <th>Max Temp</th>\n",
       "      <th>Min Temp</th>\n",
       "      <th>Avg Temp</th>\n",
       "    </tr>\n",
       "  </thead>\n",
       "  <tbody>\n",
       "    <tr>\n",
       "      <th>0</th>\n",
       "      <td>1</td>\n",
       "      <td>21.000</td>\n",
       "      <td>11.000000</td>\n",
       "      <td>15.710873</td>\n",
       "    </tr>\n",
       "    <tr>\n",
       "      <th>1</th>\n",
       "      <td>2</td>\n",
       "      <td>23.375</td>\n",
       "      <td>14.666667</td>\n",
       "      <td>18.349981</td>\n",
       "    </tr>\n",
       "    <tr>\n",
       "      <th>2</th>\n",
       "      <td>3</td>\n",
       "      <td>31.000</td>\n",
       "      <td>17.375000</td>\n",
       "      <td>23.753760</td>\n",
       "    </tr>\n",
       "    <tr>\n",
       "      <th>3</th>\n",
       "      <td>4</td>\n",
       "      <td>34.500</td>\n",
       "      <td>25.625000</td>\n",
       "      <td>30.753663</td>\n",
       "    </tr>\n",
       "  </tbody>\n",
       "</table>\n",
       "</div>"
      ],
      "text/plain": [
       "   Month  Max Temp   Min Temp   Avg Temp\n",
       "0      1    21.000  11.000000  15.710873\n",
       "1      2    23.375  14.666667  18.349981\n",
       "2      3    31.000  17.375000  23.753760\n",
       "3      4    34.500  25.625000  30.753663"
      ]
     },
     "execution_count": 4,
     "metadata": {},
     "output_type": "execute_result"
    }
   ],
   "source": [
    "# Extract the month from the 'date' column\n",
    "df['month'] = df['date'].dt.month\n",
    "\n",
    "# Group by month and calculate statistics\n",
    "monthly_stats = df.groupby('month')['meantemp'].agg(['max', 'min', 'mean']).reset_index()\n",
    "\n",
    "# Rename columns for clarity\n",
    "monthly_stats.columns = ['Month', 'Max Temp', 'Min Temp', 'Avg Temp']\n",
    "\n",
    "# Display the monthly statistics\n",
    "print(\"Monthly temperature statistics:\")\n",
    "monthly_stats"
   ]
  },
  {
   "cell_type": "markdown",
   "metadata": {},
   "source": [
    "### **Explanation:**\n",
    "- **`df['date'].dt.month`**: This extracts the month from the `date` column. For example, if the date is \"2017-01-01\", this will return `1` (January).\n",
    "- **`groupby('month')`**: This groups the data by month, allowing us to calculate statistics for each month.\n",
    "- **`agg(['max', 'min', 'mean'])`**: This calculates the maximum, minimum, and average temperatures for each month.\n",
    "- **`reset_index()`**: This converts the grouped data back into a DataFrame for easier manipulation.\n",
    "- The resulting `monthly_stats` DataFrame contains the monthly temperature statistics."
   ]
  },
  {
   "cell_type": "markdown",
   "metadata": {},
   "source": [
    "---"
   ]
  },
  {
   "cell_type": "markdown",
   "metadata": {},
   "source": [
    "## **Step 4: Split the Dataset into Seasons**\n",
    "\n",
    "We’ll split the dataset into seasons (spring, summer, autumn, winter) based on the month."
   ]
  },
  {
   "cell_type": "code",
   "execution_count": 5,
   "metadata": {},
   "outputs": [
    {
     "name": "stdout",
     "output_type": "stream",
     "text": [
      "DataFrame with 'season' column:\n"
     ]
    },
    {
     "data": {
      "text/html": [
       "<div>\n",
       "<style scoped>\n",
       "    .dataframe tbody tr th:only-of-type {\n",
       "        vertical-align: middle;\n",
       "    }\n",
       "\n",
       "    .dataframe tbody tr th {\n",
       "        vertical-align: top;\n",
       "    }\n",
       "\n",
       "    .dataframe thead th {\n",
       "        text-align: right;\n",
       "    }\n",
       "</style>\n",
       "<table border=\"1\" class=\"dataframe\">\n",
       "  <thead>\n",
       "    <tr style=\"text-align: right;\">\n",
       "      <th></th>\n",
       "      <th>date</th>\n",
       "      <th>meantemp</th>\n",
       "      <th>humidity</th>\n",
       "      <th>wind_speed</th>\n",
       "      <th>meanpressure</th>\n",
       "      <th>month</th>\n",
       "      <th>season</th>\n",
       "    </tr>\n",
       "  </thead>\n",
       "  <tbody>\n",
       "    <tr>\n",
       "      <th>0</th>\n",
       "      <td>2017-01-01</td>\n",
       "      <td>15.913043</td>\n",
       "      <td>85.869565</td>\n",
       "      <td>2.743478</td>\n",
       "      <td>59.000000</td>\n",
       "      <td>1</td>\n",
       "      <td>Winter</td>\n",
       "    </tr>\n",
       "    <tr>\n",
       "      <th>1</th>\n",
       "      <td>2017-01-02</td>\n",
       "      <td>18.500000</td>\n",
       "      <td>77.222222</td>\n",
       "      <td>2.894444</td>\n",
       "      <td>1018.277778</td>\n",
       "      <td>1</td>\n",
       "      <td>Winter</td>\n",
       "    </tr>\n",
       "    <tr>\n",
       "      <th>2</th>\n",
       "      <td>2017-01-03</td>\n",
       "      <td>17.111111</td>\n",
       "      <td>81.888889</td>\n",
       "      <td>4.016667</td>\n",
       "      <td>1018.333333</td>\n",
       "      <td>1</td>\n",
       "      <td>Winter</td>\n",
       "    </tr>\n",
       "    <tr>\n",
       "      <th>3</th>\n",
       "      <td>2017-01-04</td>\n",
       "      <td>18.700000</td>\n",
       "      <td>70.050000</td>\n",
       "      <td>4.545000</td>\n",
       "      <td>1015.700000</td>\n",
       "      <td>1</td>\n",
       "      <td>Winter</td>\n",
       "    </tr>\n",
       "    <tr>\n",
       "      <th>4</th>\n",
       "      <td>2017-01-05</td>\n",
       "      <td>18.388889</td>\n",
       "      <td>74.944444</td>\n",
       "      <td>3.300000</td>\n",
       "      <td>1014.333333</td>\n",
       "      <td>1</td>\n",
       "      <td>Winter</td>\n",
       "    </tr>\n",
       "  </tbody>\n",
       "</table>\n",
       "</div>"
      ],
      "text/plain": [
       "        date   meantemp   humidity  wind_speed  meanpressure  month  season\n",
       "0 2017-01-01  15.913043  85.869565    2.743478     59.000000      1  Winter\n",
       "1 2017-01-02  18.500000  77.222222    2.894444   1018.277778      1  Winter\n",
       "2 2017-01-03  17.111111  81.888889    4.016667   1018.333333      1  Winter\n",
       "3 2017-01-04  18.700000  70.050000    4.545000   1015.700000      1  Winter\n",
       "4 2017-01-05  18.388889  74.944444    3.300000   1014.333333      1  Winter"
      ]
     },
     "execution_count": 5,
     "metadata": {},
     "output_type": "execute_result"
    }
   ],
   "source": [
    "# Define a function to map months to seasons\n",
    "def get_season(month):\n",
    "    if month in [3, 4, 5]:\n",
    "        return 'Spring'\n",
    "    elif month in [6, 7, 8]:\n",
    "        return 'Summer'\n",
    "    elif month in [9, 10, 11]:\n",
    "        return 'Autumn'\n",
    "    else:\n",
    "        return 'Winter'\n",
    "\n",
    "# Apply the function to create a 'season' column\n",
    "df['season'] = df['month'].apply(get_season)\n",
    "\n",
    "# Display the DataFrame with the new 'season' column\n",
    "print(\"DataFrame with 'season' column:\")\n",
    "df.head()"
   ]
  },
  {
   "cell_type": "markdown",
   "metadata": {},
   "source": [
    "### **Explanation:**\n",
    "- **`get_season()` Function**: This function maps each month to a season:\n",
    "  - **Spring**: March (3), April (4), May (5)\n",
    "  - **Summer**: June (6), July (7), August (8)\n",
    "  - **Autumn**: September (9), October (10), November (11)\n",
    "  - **Winter**: December (12), January (1), February (2)\n",
    "- **`df['month'].apply(get_season)`**: This applies the `get_season()` function to each row in the `month` column, creating a new `season` column.\n",
    "- The resulting DataFrame now includes a `season` column, which we can use for seasonal analysis."
   ]
  },
  {
   "cell_type": "markdown",
   "metadata": {},
   "source": [
    "---"
   ]
  },
  {
   "cell_type": "markdown",
   "metadata": {},
   "source": [
    "## **Step 5: Export Results to a JSON File**\n",
    "\n",
    "Finally, we’ll export the cleaned dataset and the monthly statistics to JSON files for further use or sharing."
   ]
  },
  {
   "cell_type": "code",
   "execution_count": 6,
   "metadata": {},
   "outputs": [
    {
     "name": "stdout",
     "output_type": "stream",
     "text": [
      "Results saved to 'cleaned_weather_data.json' and 'monthly_temperature_stats.json'\n"
     ]
    }
   ],
   "source": [
    "# Export the cleaned dataset to a JSON file\n",
    "df.to_json('cleaned_weather_data.json', orient='records', lines=True)\n",
    "\n",
    "# Export the monthly statistics to a JSON file\n",
    "monthly_stats.to_json('monthly_temperature_stats.json', orient='records', lines=True)\n",
    "\n",
    "print(\"Results saved to 'cleaned_weather_data.json' and 'monthly_temperature_stats.json'\")"
   ]
  },
  {
   "cell_type": "markdown",
   "metadata": {},
   "source": [
    "### **Explanation:**\n",
    "- **`to_json()`**: This function exports the DataFrame to a JSON file.\n",
    "- **`orient='records'`**: This ensures the data is exported in a record-oriented format, where each row becomes a JSON object.\n",
    "- **`lines=True`**: This writes each record as a separate line in the JSON file, making it easier to process large datasets.\n",
    "- The cleaned dataset is saved as `cleaned_weather_data.json`, and the monthly statistics are saved as `monthly_temperature_stats.json`."
   ]
  },
  {
   "cell_type": "markdown",
   "metadata": {},
   "source": [
    "---"
   ]
  },
  {
   "cell_type": "markdown",
   "metadata": {},
   "source": [
    "## **Conclusion**\n",
    "\n",
    "In this project, we:\n",
    "1. Loaded and cleaned a weather dataset.\n",
    "2. Converted the `date` column to a datetime format and handled temperature outliers.\n",
    "3. Calculated monthly temperature statistics.\n",
    "4. Split the dataset into seasons.\n",
    "5. Exported the results to JSON files.\n",
    "\n",
    "The cleaned dataset and analysis results are now ready for further use or reporting.\n"
   ]
  },
  {
   "cell_type": "markdown",
   "metadata": {},
   "source": [
    "\n",
    "*Dataset: https://www.kaggle.com/datasets/mahirkukreja/delhi-weather-data*"
   ]
  }
 ],
 "metadata": {
  "kernelspec": {
   "display_name": "Python 3",
   "language": "python",
   "name": "python3"
  },
  "language_info": {
   "codemirror_mode": {
    "name": "ipython",
    "version": 3
   },
   "file_extension": ".py",
   "mimetype": "text/x-python",
   "name": "python",
   "nbconvert_exporter": "python",
   "pygments_lexer": "ipython3",
   "version": "3.12.2"
  }
 },
 "nbformat": 4,
 "nbformat_minor": 2
}
